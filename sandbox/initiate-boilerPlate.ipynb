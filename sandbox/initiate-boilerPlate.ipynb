{
 "cells": [
  {
   "cell_type": "markdown",
   "metadata": {},
   "source": [
    "# ACQUIRE\n",
    "## Import raw dataset\n",
    "# PREPARE\n",
    "## Data Cleaning\n",
    "## Explore & Visualize\n",
    "# ANALYZE\n",
    "## Feature Selection\n",
    "## Model Selection\n",
    "## Analyze the results\n",
    "# REPORT\n",
    "## Insights\n",
    "Better understanding and insights on\n",
    "- player strengths\n",
    "- enhancing performance\n",
    "- critical attributes for a player's performance\n",
    "## Actions\n",
    "Coach can design programs that improve these areas in teams"
   ]
  }
 ],
 "metadata": {
  "kernelspec": {
   "display_name": "Python 3",
   "language": "python",
   "name": "python3"
  },
  "language_info": {
   "codemirror_mode": {
    "name": "ipython",
    "version": 3
   },
   "file_extension": ".py",
   "mimetype": "text/x-python",
   "name": "python",
   "nbconvert_exporter": "python",
   "pygments_lexer": "ipython3",
   "version": "3.6.5"
  }
 },
 "nbformat": 4,
 "nbformat_minor": 2
}
